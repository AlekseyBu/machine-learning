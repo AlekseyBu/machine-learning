{
 "cells": [
  {
   "cell_type": "code",
   "execution_count": 37,
   "metadata": {},
   "outputs": [
    {
     "data": {
      "text/plain": [
       "-1"
      ]
     },
     "execution_count": 37,
     "metadata": {},
     "output_type": "execute_result"
    }
   ],
   "source": [
    "#import required libraries \n",
    "import numpy as np\n",
    "import cv2\n",
    "import matplotlib.pyplot as plt\n",
    "import time \n",
    "\n",
    "\n",
    "def detect_faces(f_cascade, colored_img, scaleFactor = 1.2):\n",
    "    img_copy = np.copy(colored_img)\n",
    "    #convert the test image to gray image as opencv face detector expects gray images\n",
    "    gray = cv2.cvtColor(img_copy, cv2.COLOR_BGR2GRAY)\n",
    "    \n",
    "    #let's detect multiscale (some images may be closer to camera than others) images\n",
    "    faces = f_cascade.detectMultiScale(gray, scaleFactor=scaleFactor, minNeighbors=5);\n",
    "    \n",
    "    #go over list of faces and draw them as rectangles on original colored img\n",
    "    for (x, y, w, h) in faces:\n",
    "        cv2.rectangle(img_copy, (x, y), (x+w, y+h), (0, 255, 0), 2)\n",
    "        \n",
    "    return img_copy\n",
    "\n",
    "# haar_face_cascade = cv2.CascadeClassifier('haarcascade_frontalface_default.xml')\n",
    "# test1 = cv2.imread('2.jpg')\n",
    "# faces_detected_img = detect_faces(haar_face_cascade, test1, 1.2)\n",
    "# cv2.imshow('Test Imag', faces_detected_img)\n",
    "# cv2.waitKey(0)\n",
    "\n",
    "#load cascade classifier training file for lbpcascade\n",
    "lbp_face_cascade = cv2.CascadeClassifier('lbpcascade_frontalface.xml')\n",
    "\n",
    "#load test image\n",
    "test2 = cv2.imread('1.jpg')\n",
    "#call our function to detect faces\n",
    "faces_detected_img = detect_faces(lbp_face_cascade, test2, 1.05)\n",
    "\n",
    "#conver image to RGB and show image\n",
    "#plt.imshow(convertToRGB(faces_detected_img))\n",
    "cv2.imshow('Test Imag', faces_detected_img)\n",
    "cv2.waitKey(0)\n"
   ]
  },
  {
   "cell_type": "code",
   "execution_count": null,
   "metadata": {
    "collapsed": true
   },
   "outputs": [],
   "source": []
  }
 ],
 "metadata": {
  "kernelspec": {
   "display_name": "Python 3",
   "language": "python",
   "name": "python3"
  },
  "language_info": {
   "codemirror_mode": {
    "name": "ipython",
    "version": 3
   },
   "file_extension": ".py",
   "mimetype": "text/x-python",
   "name": "python",
   "nbconvert_exporter": "python",
   "pygments_lexer": "ipython3",
   "version": "3.6.1"
  }
 },
 "nbformat": 4,
 "nbformat_minor": 2
}
