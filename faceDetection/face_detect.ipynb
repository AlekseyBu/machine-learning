{
 "cells": [
  {
   "cell_type": "code",
   "execution_count": 1,
   "metadata": {},
   "outputs": [
    {
     "name": "stdout",
     "output_type": "stream",
     "text": [
      "Found 9 faces!\n"
     ]
    },
    {
     "data": {
      "text/plain": [
       "-1"
      ]
     },
     "execution_count": 1,
     "metadata": {},
     "output_type": "execute_result"
    }
   ],
   "source": [
    "import cv2\n",
    "import sys\n",
    "import numpy\n",
    "\n",
    "# Get user supplied values\n",
    "imagePath = \"1.jpg\"\n",
    "faceCascPath = \"haarcascade_frontalface_default.xml\"\n",
    "eyeCascPath = \"haarcascade_eye.xml\"\n",
    "mouthCascPath = \"haarcascade_mcs_mouth.xml\"\n",
    "\n",
    "# Create the haar cascade\n",
    "faceCascade = cv2.CascadeClassifier(faceCascPath)\n",
    "eyeCascade = cv2.CascadeClassifier(eyeCascPath)\n",
    "mouthCascade = cv2.CascadeClassifier(mouthCascPath)\n",
    "\n",
    "# Read the image\n",
    "image = cv2.imread(imagePath)\n",
    "gray = cv2.cvtColor(image, cv2.COLOR_BGR2GRAY)\n",
    "\n",
    "# Detect faces in the image\n",
    "faces = faceCascade.detectMultiScale(\n",
    "    gray,\n",
    "    scaleFactor=1.2,\n",
    "    minNeighbors=5,\n",
    "    minSize=(30, 30)\n",
    "    #flags = cv2.CV_HAAR_SCALE_IMAGE\n",
    ")\n",
    "\n",
    "print(\"Found {0} faces!\".format(len(faces)))\n",
    "\n",
    "# Draw a rectangle around the faces\n",
    "for (x, y, w, h) in faces:\n",
    "    image = cv2.rectangle(image,(x,y),(x+w,y+h),(255,0,0),2)\n",
    "    roi_gray = gray[y:y+h, x:x+w]\n",
    "    roi_color = image[y:y+h, x:x+w]\n",
    "    eyes = eyeCascade.detectMultiScale(roi_gray, 1.1)\n",
    "    i = 0\n",
    "    for (ex,ey,ew,eh) in eyes:\n",
    "        cv2.rectangle(roi_color,(ex,ey),(ex+ew,ey+eh),(0,255,0),2)\n",
    "        i = i+1\n",
    "        if (i == 2) :\n",
    "            break\n",
    "    mouth = mouthCascade.detectMultiScale(roi_gray, scaleFactor=1.7, minNeighbors=7)\n",
    "    for (mx,my,mw,mh) in mouth:\n",
    "        my = int(my - 0.15*mh)\n",
    "        coord = [mx,my,mx+mw, my+mh]\n",
    "        cv2.rectangle(roi_color, (mx,my), (mx+mw,my+mh), (0,0,255), 2)\n",
    "        #break\n",
    "    cv2.rectangle(roi_color, (coord[0],coord[1]), (coord[2],coord[3]), (255,0,255), 2)\n",
    "\n",
    "cv2.imshow(\"Faces found\", image)\n",
    "cv2.waitKey(0)"
   ]
  },
  {
   "cell_type": "code",
   "execution_count": null,
   "metadata": {
    "collapsed": true
   },
   "outputs": [],
   "source": []
  }
 ],
 "metadata": {
  "kernelspec": {
   "display_name": "Python 3",
   "language": "python",
   "name": "python3"
  },
  "language_info": {
   "codemirror_mode": {
    "name": "ipython",
    "version": 3
   },
   "file_extension": ".py",
   "mimetype": "text/x-python",
   "name": "python",
   "nbconvert_exporter": "python",
   "pygments_lexer": "ipython3",
   "version": "3.6.1"
  }
 },
 "nbformat": 4,
 "nbformat_minor": 2
}
