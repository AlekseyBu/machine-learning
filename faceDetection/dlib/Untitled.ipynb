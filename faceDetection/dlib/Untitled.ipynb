{
 "cells": [
  {
   "cell_type": "code",
   "execution_count": 19,
   "metadata": {},
   "outputs": [
    {
     "name": "stdout",
     "output_type": "stream",
     "text": [
      "Number of faces detected: 8\n",
      "Detection 0: Left: 151 Top: 272 Right: 228 Bottom: 349\n",
      "Detection 1: Left: 1100 Top: 193 Right: 1193 Bottom: 286\n",
      "Detection 2: Left: 319 Top: 284 Right: 383 Bottom: 348\n",
      "Detection 3: Left: 624 Top: 200 Right: 677 Bottom: 254\n",
      "Detection 4: Left: 842 Top: 234 Right: 907 Bottom: 298\n",
      "Detection 5: Left: 692 Top: 248 Right: 756 Bottom: 312\n",
      "Detection 6: Left: 445 Top: 272 Right: 498 Bottom: 326\n",
      "Detection 7: Left: 534 Top: 278 Right: 588 Bottom: 332\n"
     ]
    }
   ],
   "source": [
    "import dlib\n",
    "from skimage import io\n",
    "from scipy.spatial import distance\n",
    "\n",
    "# files with models\n",
    "sp = dlib.shape_predictor('shape_predictor_68_face_landmarks.dat')\n",
    "facerec = dlib.face_recognition_model_v1('dlib_face_recognition_resnet_model_v1.dat')\n",
    "detector = dlib.get_frontal_face_detector()\n",
    "\n",
    "# show first photo\n",
    "\n",
    "img = io.imread('1.jpg')\n",
    "win1 = dlib.image_window()\n",
    "win1.clear_overlay()\n",
    "win1.set_image(img)\n",
    "#coll = dlib.rgb_pixel(#AAAAAA)\n",
    "\n",
    "# find face at photo \n",
    "dets = detector(img, 2)\n",
    "print(\"Number of faces detected: {}\".format(len(dets)))\n",
    "\n",
    "for k, d in enumerate(dets):\n",
    "    print(\"Detection {}: Left: {} Top: {} Right: {} Bottom: {}\".format(\n",
    "        k, d.left(), d.top(), d.right(), d.bottom()))\n",
    "    shape = sp(img, d)\n",
    "    #win1.clear_overlay()\n",
    "    win1.add_overlay(d)\n",
    "    win1.add_overlay(shape)\n",
    "    #dlib.hit_enter_to_continue()\n",
    "    \n",
    "# take descriptor\n",
    "\n",
    "# face_descriptor1 = facerec.compute_face_descriptor(img, shape)\n",
    "# # print(face_descriptor1)\n",
    "\n",
    "# # test on another photo\n",
    "\n",
    "# img = io.imread('2.jpg')\n",
    "# win2 = dlib.image_window()\n",
    "# win2.clear_overlay()\n",
    "# win2.set_image(img)\n",
    "# dets_webcam = detector(img, 1)\n",
    "# for k, d in enumerate(dets_webcam):\n",
    "#     print(\"Detection {}: Left: {} Top: {} Right: {} Bottom: {}\".format(\n",
    "#         k, d.left(), d.top(), d.right(), d.bottom()))\n",
    "#     shape = sp(img, d)\n",
    "#     win2.clear_overlay()\n",
    "#     win2.add_overlay(d)\n",
    "#     win2.add_overlay(shape)\n",
    "    \n",
    "# face_descriptor2 = facerec.compute_face_descriptor(img, shape)\n",
    "\n",
    "# a = distance.euclidean(face_descriptor1, face_descriptor2)\n",
    "# print(a)"
   ]
  },
  {
   "cell_type": "code",
   "execution_count": null,
   "metadata": {
    "collapsed": true
   },
   "outputs": [],
   "source": []
  },
  {
   "cell_type": "code",
   "execution_count": null,
   "metadata": {
    "collapsed": true
   },
   "outputs": [],
   "source": []
  }
 ],
 "metadata": {
  "kernelspec": {
   "display_name": "Python 3",
   "language": "python",
   "name": "python3"
  },
  "language_info": {
   "codemirror_mode": {
    "name": "ipython",
    "version": 3
   },
   "file_extension": ".py",
   "mimetype": "text/x-python",
   "name": "python",
   "nbconvert_exporter": "python",
   "pygments_lexer": "ipython3",
   "version": "3.6.1"
  }
 },
 "nbformat": 4,
 "nbformat_minor": 2
}
